{
  "cells": [
    {
      "cell_type": "markdown",
      "metadata": {
        "id": "tZ2YCdnRG5ly"
      },
      "source": [
        "## Import Libraries"
      ]
    },
    {
      "cell_type": "code",
      "execution_count": null,
      "metadata": {
        "execution": {
          "iopub.execute_input": "2023-11-29T03:43:34.273606Z",
          "iopub.status.busy": "2023-11-29T03:43:34.273173Z",
          "iopub.status.idle": "2023-11-29T03:43:44.318855Z",
          "shell.execute_reply": "2023-11-29T03:43:44.317599Z",
          "shell.execute_reply.started": "2023-11-29T03:43:34.273570Z"
        },
        "trusted": true,
        "id": "OP8vKZCcG5l3"
      },
      "outputs": [],
      "source": [
        "import os\n",
        "import numpy as np\n",
        "import pandas as pd\n",
        "import sklearn\n",
        "from sklearn.model_selection import train_test_split\n",
        "from sklearn.preprocessing import LabelEncoder\n",
        "import torch\n",
        "import torch.nn as nn\n",
        "from torch.utils.data import DataLoader , Dataset\n",
        "from torch.utils.data import TensorDataset\n",
        "import torchvision\n",
        "from torchvision import datasets , transforms\n",
        "from torchvision.datasets import ImageFolder\n",
        "from torchvision.transforms import ToTensor\n",
        "from PIL import Image\n",
        "import torch.nn.functional as F\n",
        "import pytorch_lightning as pl"
      ]
    },
    {
      "cell_type": "markdown",
      "metadata": {
        "id": "9shAQOJvG5l8"
      },
      "source": [
        "## Import Dataset"
      ]
    },
    {
      "cell_type": "code",
      "execution_count": null,
      "metadata": {
        "execution": {
          "iopub.execute_input": "2023-11-29T03:44:02.444158Z",
          "iopub.status.busy": "2023-11-29T03:44:02.443541Z",
          "iopub.status.idle": "2023-11-29T03:44:05.275950Z",
          "shell.execute_reply": "2023-11-29T03:44:05.274684Z",
          "shell.execute_reply.started": "2023-11-29T03:44:02.444094Z"
        },
        "trusted": true,
        "id": "FaBr4aUPG5l9"
      },
      "outputs": [],
      "source": [
        "\n",
        "# Directory containing the image data\n",
        "data_dir = '/home/NGS/HTA_Projects/group_5/lung_colon_image_set'\n",
        "\n",
        "# Lists to store file paths and labels\n",
        "filepaths = []\n",
        "labels = []\n",
        "\n",
        "# Get subdirectories within the main data directory\n",
        "folds = os.listdir(data_dir)\n",
        "\n",
        "# Iterate over each subdirectory (fold)\n",
        "for fold in folds:\n",
        "    # Construct the full path to the current subdirectory\n",
        "    foldpath = os.path.join(data_dir, fold)\n",
        "\n",
        "    # Get a list of files in the current subdirectory\n",
        "    flist = os.listdir(foldpath)\n",
        "\n",
        "    # Iterate over each file in the current subdirectory\n",
        "    for f in flist:\n",
        "        # Construct the full path to the current file\n",
        "        f_path = os.path.join(foldpath, f)\n",
        "\n",
        "        # Get a list of files in the subdirectory of the current file\n",
        "        filelist = os.listdir(f_path)\n",
        "\n",
        "        # Iterate over each file in the subdirectory of the current file\n",
        "        for file in filelist:\n",
        "            # Construct the full path to the current file\n",
        "            fpath = os.path.join(f_path, file)\n",
        "\n",
        "            # Appending the full path to the list of file paths\n",
        "            filepaths.append(fpath)\n",
        "\n",
        "            # Assigning a label based on the subdirectory (tissue type)\n",
        "            if f == 'colon_aca':\n",
        "                labels.append('Colon Adenocarcinoma')\n",
        "            elif f == 'colon_n':\n",
        "                labels.append('Colon Benign Tissue')\n",
        "            elif f == 'lung_aca':\n",
        "                labels.append('Lung Adenocarcinoma')\n",
        "            elif f == 'lung_n':\n",
        "                labels.append('Lung Benign Tissue')\n",
        "            elif f == 'lung_scc':\n",
        "                labels.append('Lung Squamous Cell Carcinoma')\n",
        "\n",
        "# Concatenate data paths with labels into one DataFrame\n",
        "Fseries = pd.Series(filepaths, name='filepaths')\n",
        "Lseries = pd.Series(labels, name='labels')\n",
        "df = pd.concat([Fseries, Lseries], axis=1)\n",
        "\n",
        ""
      ]
    },
    {
      "cell_type": "code",
      "execution_count": null,
      "metadata": {
        "execution": {
          "iopub.execute_input": "2023-11-29T03:44:06.814905Z",
          "iopub.status.busy": "2023-11-29T03:44:06.814482Z",
          "iopub.status.idle": "2023-11-29T03:44:06.855281Z",
          "shell.execute_reply": "2023-11-29T03:44:06.853647Z",
          "shell.execute_reply.started": "2023-11-29T03:44:06.814871Z"
        },
        "trusted": true,
        "id": "FzTRimMwG5l-"
      },
      "outputs": [],
      "source": [
        "# Using LabelEncoder to convert categorical labels to numerical values\n",
        "le = LabelEncoder()\n",
        "\n",
        "# Applying a lambda function to map each tissue type label to a numerical category\n",
        "df['labels'] = df['labels'].apply(lambda x:\n",
        "                                  0 if x == 'Colon Adenocarcinoma'\n",
        "                                  else (1 if x == 'Colon Benign Tissue'\n",
        "                                        else (2 if x == 'Lung Adenocarcinoma'\n",
        "                                              else (3 if x == 'Lung Squamous Cell Carcinoma'\n",
        "                                                    else (4 if x == 'Lung Benign Tissue' else x)))))\n",
        "\n"
      ]
    },
    {
      "cell_type": "markdown",
      "metadata": {
        "id": "CSmRF9mtG5l_"
      },
      "source": [
        "## Split Dataset"
      ]
    },
    {
      "cell_type": "code",
      "execution_count": null,
      "metadata": {
        "execution": {
          "iopub.execute_input": "2023-11-29T03:44:18.139577Z",
          "iopub.status.busy": "2023-11-29T03:44:18.139184Z",
          "iopub.status.idle": "2023-11-29T03:44:18.153533Z",
          "shell.execute_reply": "2023-11-29T03:44:18.152220Z",
          "shell.execute_reply.started": "2023-11-29T03:44:18.139547Z"
        },
        "trusted": true,
        "id": "ZEC0xgxpG5mA"
      },
      "outputs": [],
      "source": [
        "# Splitting the data into training and testing sets\n",
        "\n",
        "# x: File paths of the images\n",
        "x = df['filepaths']\n",
        "# y: Corresponding numerical labels for tissue types\n",
        "y = df['labels']\n",
        "\n",
        "# Splitting the data into 70% training and 30% testing sets\n",
        "# shuffle=True ensures random shuffling of the data\n",
        "# random_state is set for reproducibility\n",
        "x_train_paths, x_test_paths, y_train, y_test = train_test_split(x, y, train_size=0.7,\n",
        "                                                                shuffle=True, random_state=34)\n"
      ]
    },
    {
      "cell_type": "markdown",
      "metadata": {
        "id": "BsLEdm9UG5mC"
      },
      "source": [
        "## Convert Into Tensor using transform"
      ]
    },
    {
      "cell_type": "code",
      "execution_count": null,
      "metadata": {
        "execution": {
          "iopub.execute_input": "2023-11-29T03:44:22.621577Z",
          "iopub.status.busy": "2023-11-29T03:44:22.620746Z",
          "iopub.status.idle": "2023-11-29T03:44:22.627605Z",
          "shell.execute_reply": "2023-11-29T03:44:22.626452Z",
          "shell.execute_reply.started": "2023-11-29T03:44:22.621538Z"
        },
        "trusted": true,
        "id": "BsLSobP-G5mD"
      },
      "outputs": [],
      "source": [
        "# Defining a series of image transformations using transforms.Compose\n",
        "transform = transforms.Compose([transforms.Resize((224, 224)),  # Resize the image to (224, 224) pixels\n",
        "transforms.ToTensor()            # Convert the image to a PyTorch tensor\n",
        "])\n",
        "\n",
        "# Function to load an image from a file path, apply the defined transformations,\n",
        "# and return the resulting tensor\n",
        "def to_tensor(image_path):\n",
        "    # Open the image using PIL\n",
        "    image = Image.open(image_path)\n",
        "\n",
        "    # Apply the defined transformations\n",
        "    image = transform(image)\n",
        "\n",
        "    # Return the transformed image as a PyTorch tensor\n",
        "    return image\n"
      ]
    },
    {
      "cell_type": "code",
      "execution_count": null,
      "metadata": {
        "execution": {
          "iopub.execute_input": "2023-11-29T03:45:07.785523Z",
          "iopub.status.busy": "2023-11-29T03:45:07.785091Z",
          "iopub.status.idle": "2023-11-29T03:50:41.354605Z",
          "shell.execute_reply": "2023-11-29T03:50:41.353349Z",
          "shell.execute_reply.started": "2023-11-29T03:45:07.785492Z"
        },
        "trusted": true,
        "id": "QbO_i_FrG5mE"
      },
      "outputs": [],
      "source": [
        "# To load and transform training images using 'to_tensor' function and 'transform', resulting in a list of PyTorch tensors.\n",
        "x_train = [to_tensor(image_path) for image_path in x_train_paths]"
      ]
    },
    {
      "cell_type": "code",
      "execution_count": null,
      "metadata": {
        "execution": {
          "iopub.execute_input": "2023-11-29T03:50:48.612405Z",
          "iopub.status.busy": "2023-11-29T03:50:48.611967Z",
          "iopub.status.idle": "2023-11-29T03:53:12.536985Z",
          "shell.execute_reply": "2023-11-29T03:53:12.535733Z",
          "shell.execute_reply.started": "2023-11-29T03:50:48.612365Z"
        },
        "trusted": true,
        "id": "yuGFoebYG5mG"
      },
      "outputs": [],
      "source": [
        "#  To load and transform test images using 'to_tensor' function and 'transform', resulting in a list of PyTorch tensors.\n",
        "x_test = [to_tensor(image_path) for image_path in x_test_paths]"
      ]
    },
    {
      "cell_type": "markdown",
      "metadata": {
        "id": "x7Q6nEHIG5mH"
      },
      "source": [
        "## Create Dataloaders"
      ]
    },
    {
      "cell_type": "code",
      "execution_count": null,
      "metadata": {
        "execution": {
          "iopub.execute_input": "2023-11-29T03:53:48.205536Z",
          "iopub.status.busy": "2023-11-29T03:53:48.205082Z",
          "iopub.status.idle": "2023-11-29T03:53:48.211308Z",
          "shell.execute_reply": "2023-11-29T03:53:48.210057Z",
          "shell.execute_reply.started": "2023-11-29T03:53:48.205499Z"
        },
        "trusted": true,
        "id": "HV9HX14dG5mI"
      },
      "outputs": [],
      "source": [
        "# Converting training and testing labels to PyTorch tensors using torch.tensor\n",
        "\n",
        "y_train_tensor = torch.tensor(y_train.values)\n",
        "\n",
        "\n",
        "y_test_tensor = torch.tensor(y_test.values)"
      ]
    },
    {
      "cell_type": "code",
      "execution_count": null,
      "metadata": {
        "execution": {
          "iopub.execute_input": "2023-11-29T03:53:49.619060Z",
          "iopub.status.busy": "2023-11-29T03:53:49.618638Z",
          "iopub.status.idle": "2023-11-29T03:53:58.818457Z",
          "shell.execute_reply": "2023-11-29T03:53:58.815992Z",
          "shell.execute_reply.started": "2023-11-29T03:53:49.619025Z"
        },
        "trusted": true,
        "id": "tHJSjun-G5mI"
      },
      "outputs": [],
      "source": [
        "# Creating PyTorch datasets and data loaders for training and testing with batch size 120, shuffle for training, and no shuffle for testing.\n",
        "\n",
        "train_dataset = TensorDataset(torch.stack(x_train), y_train_tensor)\n",
        "test_dataset = TensorDataset(torch.stack(x_test), y_test_tensor)\n",
        "\n",
        "\n",
        "train_loader = DataLoader(train_dataset, batch_size=120, shuffle=True)\n",
        "test_loader = DataLoader(test_dataset, batch_size=120, shuffle=False)"
      ]
    },
    {
      "cell_type": "code",
      "execution_count": null,
      "metadata": {
        "execution": {
          "iopub.execute_input": "2023-11-29T04:00:05.239757Z",
          "iopub.status.busy": "2023-11-29T04:00:05.236117Z",
          "iopub.status.idle": "2023-11-29T04:00:05.263729Z",
          "shell.execute_reply": "2023-11-29T04:00:05.261903Z",
          "shell.execute_reply.started": "2023-11-29T04:00:05.239635Z"
        },
        "trusted": true,
        "id": "nwF5Z0SkG5mJ",
        "outputId": "f340ac2d-a55c-438b-f6a1-e2467672a712"
      },
      "outputs": [
        {
          "data": {
            "text/plain": [
              "<torch.utils.data.dataloader.DataLoader at 0x7f7618ef84d0>"
            ]
          },
          "execution_count": 10,
          "metadata": {},
          "output_type": "execute_result"
        }
      ],
      "source": [
        "train_loader"
      ]
    },
    {
      "cell_type": "code",
      "execution_count": null,
      "metadata": {
        "execution": {
          "iopub.execute_input": "2023-11-29T04:00:06.569710Z",
          "iopub.status.busy": "2023-11-29T04:00:06.568992Z",
          "iopub.status.idle": "2023-11-29T04:00:06.577647Z",
          "shell.execute_reply": "2023-11-29T04:00:06.575942Z",
          "shell.execute_reply.started": "2023-11-29T04:00:06.569672Z"
        },
        "trusted": true,
        "id": "KED4BYklG5mN",
        "outputId": "ac126a66-a9ab-42ee-85bc-02a44f2d5805"
      },
      "outputs": [
        {
          "data": {
            "text/plain": [
              "120"
            ]
          },
          "execution_count": 11,
          "metadata": {},
          "output_type": "execute_result"
        }
      ],
      "source": [
        "train_loader.batch_size"
      ]
    },
    {
      "cell_type": "markdown",
      "metadata": {
        "id": "x6werfOcG5mP"
      },
      "source": [
        "## Model Building"
      ]
    },
    {
      "cell_type": "code",
      "execution_count": null,
      "metadata": {
        "execution": {
          "iopub.execute_input": "2023-11-29T04:00:08.067188Z",
          "iopub.status.busy": "2023-11-29T04:00:08.066737Z",
          "iopub.status.idle": "2023-11-29T04:00:08.087158Z",
          "shell.execute_reply": "2023-11-29T04:00:08.086001Z",
          "shell.execute_reply.started": "2023-11-29T04:00:08.067151Z"
        },
        "trusted": true,
        "id": "99oD2a2lG5mQ"
      },
      "outputs": [],
      "source": [
        "# Convolutional Neural Network (CNN) class using PyTorch Lightning\n",
        "class ConvolutionalNetwork(pl.LightningModule):\n",
        "\n",
        "\n",
        "def __init__(self):\n",
        "    # Call the constructor of the parent class (nn.Module)\n",
        "    super(ConvolutionalNetwork, self).__init__()\n",
        "\n",
        "    # Define three convolutional layers with specified parameters\n",
        "    self.conv1 = nn.Conv2d(3, 6, 3, 1)   # Input channels: 3 (RGB), Output channels: 6, Kernel size: 3x3, Stride: 1\n",
        "    self.conv2 = nn.Conv2d(6, 16, 3, 1)  # Input channels: 6, Output channels: 16, Kernel size: 3x3, Stride: 1\n",
        "    self.conv3 = nn.Conv2d(16, 32, 3, 1) # Input channels: 16, Output channels: 32, Kernel size: 3x3, Stride: 1\n",
        "\n",
        "# Define fully connected (dense) layers in the Convolutional Neural Network (CNN) model\n",
        "# Four fully connected layers (fc1, fc2, fc3, fc4) are defined\n",
        "    self.fc1 = nn.Linear(32 * 26 * 26, 120)  # Input size: 32 * 26 * 26, Output size: 120\n",
        "    self.fc2 = nn.Linear(120, 84)             # Input size: 120, Output size: 84\n",
        "    self.fc3 = nn.Linear(84, 20)              # Input size: 84, Output size: 20\n",
        "    self.fc4 = nn.Linear(20, 5)               # Input size: 20, Output size: 5\n",
        "\n",
        "    # Define the forward pass, optimization, and evaluation methods in the Convolutional Neural Network (CNN) model\n",
        "\n",
        "# Forward Pass:\n",
        "# - Applies ReLU activation and max pooling after each convolutional layer\n",
        "# - Flattens the output and passes it through fully connected layers with ReLU activation\n",
        "# - Applies log_softmax activation for the output layer\n",
        "def forward(self, X):\n",
        "    X = F.relu(self.conv1(X))\n",
        "    X = F.max_pool2d(X, 2, 2)\n",
        "    X = F.relu(self.conv2(X))\n",
        "    X = F.max_pool2d(X, 2, 2)\n",
        "    X = F.relu(self.conv3(X))\n",
        "    X = F.max_pool2d(X, 2, 2)\n",
        "    X = X.view(-1, 32 * 26 * 26)\n",
        "    X = F.relu(self.fc1(X))\n",
        "    X = F.relu(self.fc2(X))\n",
        "    X = F.relu(self.fc3(X))\n",
        "    X = self.fc4(X)\n",
        "    return F.log_softmax(X, dim=1)\n",
        "\n",
        "# Configure Optimizers:\n",
        "# Configures the Adam optimizer with a learning rate of 0.004\n",
        "def configure_optimizers(self):\n",
        "    optimizer = torch.optim.Adam(self.parameters(), lr=0.004)\n",
        "    return optimizer\n",
        "\n",
        "# Training Step:\n",
        "# - Calculates cross-entropy loss, accuracy, and logs metrics during training\n",
        "def training_step(self, train_batch, batch_idx):\n",
        "    X, y = train_batch\n",
        "    y_hat = self(X)\n",
        "    loss = F.cross_entropy(y_hat, y)\n",
        "    pred = y_hat.argmax(dim=1, keepdim=True)\n",
        "    acc = pred.eq(y.view_as(pred)).sum().item() / y.shape[0]\n",
        "    self.log(\"train_loss\", loss)\n",
        "    self.log(\"train_acc\", acc)\n",
        "    return loss\n",
        "\n",
        "# Validation Step:\n",
        "# - Calculates cross-entropy loss, accuracy, and logs metrics during validation\n",
        "def validation_step(self, val_batch, batch_idx):\n",
        "    X, y = val_batch\n",
        "    y_hat = self(X)\n",
        "    loss = F.cross_entropy(y_hat, y)\n",
        "    pred = y_hat.argmax(dim=1, keepdim=True)\n",
        "    acc = pred.eq(y.view_as(pred)).sum().item() / y.shape[0]\n",
        "    self.log(\"val_loss\", loss)\n",
        "    self.log(\"val_acc\", acc)\n",
        "\n",
        "# Testing Step:\n",
        "# Calculates cross-entropy loss, accuracy, and logs metrics during testing\n",
        "def test_step(self, test_batch, batch_idx):\n",
        "    X, y = test_batch\n",
        "    y_hat = self(X)\n",
        "    loss = F.cross_entropy(y_hat, y)\n",
        "    pred = y_hat.argmax(dim=1, keepdim=True)\n",
        "    acc = pred.eq(y.view_as(pred)).sum().item() / y.shape[0]\n",
        "    self.log(\"test_loss\", loss)\n",
        "    self.log(\"test_acc\", acc)\n"
      ]
    },
    {
      "cell_type": "code",
      "execution_count": null,
      "metadata": {
        "execution": {
          "iopub.execute_input": "2023-11-29T04:00:23.005572Z",
          "iopub.status.busy": "2023-11-29T04:00:23.005075Z",
          "iopub.status.idle": "2023-11-29T04:00:23.651483Z",
          "shell.execute_reply": "2023-11-29T04:00:23.649967Z",
          "shell.execute_reply.started": "2023-11-29T04:00:23.005537Z"
        },
        "trusted": true,
        "id": "W6OzQui5G5mR"
      },
      "outputs": [],
      "source": [
        "model = ConvolutionalNetwork()"
      ]
    },
    {
      "cell_type": "code",
      "execution_count": null,
      "metadata": {
        "id": "o6E4HJKXG5mS"
      },
      "outputs": [],
      "source": [
        "# Creating  a TensorBoard logger for monitoring training progress and metrics\n",
        "\n",
        "# logger: An instance of TensorBoardLogger from PyTorch Lightning\n",
        "# Logs will be saved in the \"logs/\" directory with the experiment name \"ConvolutionalNetwork\"\n",
        "logger = pl.loggers.TensorBoardLogger(\"logs/\", name=\"ConvolutionalNetwork\")\n",
        "\n",
        "logger = pl.loggers.TensorBoardLogger(\"logs/\", name=\"ConvolutionalNetwork\")"
      ]
    },
    {
      "cell_type": "code",
      "execution_count": null,
      "metadata": {
        "execution": {
          "iopub.execute_input": "2023-11-29T04:00:24.979509Z",
          "iopub.status.busy": "2023-11-29T04:00:24.978293Z",
          "iopub.status.idle": "2023-11-29T04:00:26.813757Z",
          "shell.execute_reply": "2023-11-29T04:00:26.812611Z",
          "shell.execute_reply.started": "2023-11-29T04:00:24.979454Z"
        },
        "trusted": true,
        "id": "63IQan0rG5mT",
        "outputId": "0521f77d-bcc0-4b03-b74b-8ab7a8b30504"
      },
      "outputs": [
        {
          "name": "stderr",
          "output_type": "stream",
          "text": [
            "GPU available: True (cuda), used: True\n",
            "TPU available: False, using: 0 TPU cores\n",
            "IPU available: False, using: 0 IPUs\n",
            "HPU available: False, using: 0 HPUs\n"
          ]
        }
      ],
      "source": [
        "# Create a PyTorch Lightning Trainer instance for model training\n",
        "#max_epochs: Specifies the maximum number of training epochs (here, set to 30)\n",
        "trainer = pl.Trainer(max_epochs=30 , logger=logger, accelerator=\"gpu\" , devices=1)"
      ]
    },
    {
      "cell_type": "code",
      "execution_count": null,
      "metadata": {
        "execution": {
          "iopub.execute_input": "2023-11-29T04:00:36.853705Z",
          "iopub.status.busy": "2023-11-29T04:00:36.853271Z"
        },
        "trusted": true,
        "colab": {
          "referenced_widgets": [
            "e7e3570a71984ac4b126fe7af1287712",
            "9e93c32bc16a485caa3d17201911d7bf",
            "bf081fd03d10461d8a9c9b79155cbf5f",
            "3c091321fafd40c7b084eee8cf4be2d0",
            "d236fb8a1b4c463ca1a9599929e10080",
            "a5cfb65d9ef846e8b8a6d3f71ce84209",
            "1acbda68476540c498e6f12ec465d80b",
            "efa8cb243119476e84dadc26034e0fb4",
            "bceead941ee74cd6a4470df234d69c2f",
            "52a4e90f6374460aa68b22384bbd2391",
            "7a30a2ae3c874d46819c28f704b851fb",
            "24eeba60a5f54ca4b77346d819376d50",
            "aaccaa68951547dfbccfca4bf208239a",
            "115b4e3f5f934dc6a6e3fa3d00530564",
            "4ba5ca3e36044ccb891b0283b018b4a2",
            "1aeb61ca51f64967abfe24d76712f43b",
            "23347e45357c44ab94b400a45f99f0ae",
            "4af982b5809c4cf882cd78a27163f28d",
            "7a7ed6fd42df42049d9470e921e808ec",
            "303be584bebc46b1ace59846d285b1a1",
            "d22bccf58c654fa191f58c480c6420f0",
            "a64e35d021af432d8d83b07120d0fab2",
            "0aac09d2ec514224a0439fb1958793c8",
            "17c59fdbd61d46aaacf539f82bd22530",
            "aa7a7541056347b992d2d3164a97fbd0",
            "d2f728afb95d4757809df3026202b280",
            "6d3b12a440f444679fd0cc29ee06fd7d",
            "0bf2cd1044354663bf6def5e157ef931",
            "1d4b2ff23dc14e749cfd5890a254e51d",
            "3534c23459994d50b9704b69e55aa64a",
            "6dbdd986f39d436a96e834a8840e9d39",
            "59246e8e5b2847e6a8dbe3f40d7c1acf"
          ]
        },
        "id": "E2n4eGSeG5mT",
        "outputId": "bc9891ed-f4cd-4b49-eee7-786ef429b811"
      },
      "outputs": [
        {
          "name": "stderr",
          "output_type": "stream",
          "text": [
            "Missing logger folder: logs/ConvolutionalNetwork\n",
            "LOCAL_RANK: 0 - CUDA_VISIBLE_DEVICES: [0,1]\n",
            "\n",
            "  | Name  | Type   | Params\n",
            "---------------------------------\n",
            "0 | conv1 | Conv2d | 168   \n",
            "1 | conv2 | Conv2d | 880   \n",
            "2 | conv3 | Conv2d | 4.6 K \n",
            "3 | fc1   | Linear | 2.6 M \n",
            "4 | fc2   | Linear | 10.2 K\n",
            "5 | fc3   | Linear | 1.7 K \n",
            "6 | fc4   | Linear | 105   \n",
            "---------------------------------\n",
            "2.6 M     Trainable params\n",
            "0         Non-trainable params\n",
            "2.6 M     Total params\n",
            "10.454    Total estimated model params size (MB)\n"
          ]
        },
        {
          "data": {
            "application/vnd.jupyter.widget-view+json": {
              "model_id": "e7e3570a71984ac4b126fe7af1287712",
              "version_major": 2,
              "version_minor": 0
            },
            "text/plain": [
              "Sanity Checking: |          | 0/? [00:00<?, ?it/s]"
            ]
          },
          "metadata": {},
          "output_type": "display_data"
        },
        {
          "name": "stderr",
          "output_type": "stream",
          "text": [
            "/home/student/miniconda3/envs/pytorch/lib/python3.11/site-packages/pytorch_lightning/trainer/connectors/data_connector.py:441: The 'val_dataloader' does not have many workers which may be a bottleneck. Consider increasing the value of the `num_workers` argument` to `num_workers=39` in the `DataLoader` to improve performance.\n",
            "/home/student/miniconda3/envs/pytorch/lib/python3.11/site-packages/pytorch_lightning/trainer/connectors/data_connector.py:441: The 'train_dataloader' does not have many workers which may be a bottleneck. Consider increasing the value of the `num_workers` argument` to `num_workers=39` in the `DataLoader` to improve performance.\n"
          ]
        },
        {
          "data": {
            "application/vnd.jupyter.widget-view+json": {
              "model_id": "9e93c32bc16a485caa3d17201911d7bf",
              "version_major": 2,
              "version_minor": 0
            },
            "text/plain": [
              "Training: |          | 0/? [00:00<?, ?it/s]"
            ]
          },
          "metadata": {},
          "output_type": "display_data"
        },
        {
          "data": {
            "application/vnd.jupyter.widget-view+json": {
              "model_id": "bf081fd03d10461d8a9c9b79155cbf5f",
              "version_major": 2,
              "version_minor": 0
            },
            "text/plain": [
              "Validation: |          | 0/? [00:00<?, ?it/s]"
            ]
          },
          "metadata": {},
          "output_type": "display_data"
        },
        {
          "data": {
            "application/vnd.jupyter.widget-view+json": {
              "model_id": "3c091321fafd40c7b084eee8cf4be2d0",
              "version_major": 2,
              "version_minor": 0
            },
            "text/plain": [
              "Validation: |          | 0/? [00:00<?, ?it/s]"
            ]
          },
          "metadata": {},
          "output_type": "display_data"
        },
        {
          "data": {
            "application/vnd.jupyter.widget-view+json": {
              "model_id": "d236fb8a1b4c463ca1a9599929e10080",
              "version_major": 2,
              "version_minor": 0
            },
            "text/plain": [
              "Validation: |          | 0/? [00:00<?, ?it/s]"
            ]
          },
          "metadata": {},
          "output_type": "display_data"
        },
        {
          "data": {
            "application/vnd.jupyter.widget-view+json": {
              "model_id": "a5cfb65d9ef846e8b8a6d3f71ce84209",
              "version_major": 2,
              "version_minor": 0
            },
            "text/plain": [
              "Validation: |          | 0/? [00:00<?, ?it/s]"
            ]
          },
          "metadata": {},
          "output_type": "display_data"
        },
        {
          "data": {
            "application/vnd.jupyter.widget-view+json": {
              "model_id": "1acbda68476540c498e6f12ec465d80b",
              "version_major": 2,
              "version_minor": 0
            },
            "text/plain": [
              "Validation: |          | 0/? [00:00<?, ?it/s]"
            ]
          },
          "metadata": {},
          "output_type": "display_data"
        },
        {
          "data": {
            "application/vnd.jupyter.widget-view+json": {
              "model_id": "efa8cb243119476e84dadc26034e0fb4",
              "version_major": 2,
              "version_minor": 0
            },
            "text/plain": [
              "Validation: |          | 0/? [00:00<?, ?it/s]"
            ]
          },
          "metadata": {},
          "output_type": "display_data"
        },
        {
          "data": {
            "application/vnd.jupyter.widget-view+json": {
              "model_id": "bceead941ee74cd6a4470df234d69c2f",
              "version_major": 2,
              "version_minor": 0
            },
            "text/plain": [
              "Validation: |          | 0/? [00:00<?, ?it/s]"
            ]
          },
          "metadata": {},
          "output_type": "display_data"
        },
        {
          "data": {
            "application/vnd.jupyter.widget-view+json": {
              "model_id": "52a4e90f6374460aa68b22384bbd2391",
              "version_major": 2,
              "version_minor": 0
            },
            "text/plain": [
              "Validation: |          | 0/? [00:00<?, ?it/s]"
            ]
          },
          "metadata": {},
          "output_type": "display_data"
        },
        {
          "data": {
            "application/vnd.jupyter.widget-view+json": {
              "model_id": "7a30a2ae3c874d46819c28f704b851fb",
              "version_major": 2,
              "version_minor": 0
            },
            "text/plain": [
              "Validation: |          | 0/? [00:00<?, ?it/s]"
            ]
          },
          "metadata": {},
          "output_type": "display_data"
        },
        {
          "data": {
            "application/vnd.jupyter.widget-view+json": {
              "model_id": "24eeba60a5f54ca4b77346d819376d50",
              "version_major": 2,
              "version_minor": 0
            },
            "text/plain": [
              "Validation: |          | 0/? [00:00<?, ?it/s]"
            ]
          },
          "metadata": {},
          "output_type": "display_data"
        },
        {
          "data": {
            "application/vnd.jupyter.widget-view+json": {
              "model_id": "aaccaa68951547dfbccfca4bf208239a",
              "version_major": 2,
              "version_minor": 0
            },
            "text/plain": [
              "Validation: |          | 0/? [00:00<?, ?it/s]"
            ]
          },
          "metadata": {},
          "output_type": "display_data"
        },
        {
          "data": {
            "application/vnd.jupyter.widget-view+json": {
              "model_id": "115b4e3f5f934dc6a6e3fa3d00530564",
              "version_major": 2,
              "version_minor": 0
            },
            "text/plain": [
              "Validation: |          | 0/? [00:00<?, ?it/s]"
            ]
          },
          "metadata": {},
          "output_type": "display_data"
        },
        {
          "data": {
            "application/vnd.jupyter.widget-view+json": {
              "model_id": "4ba5ca3e36044ccb891b0283b018b4a2",
              "version_major": 2,
              "version_minor": 0
            },
            "text/plain": [
              "Validation: |          | 0/? [00:00<?, ?it/s]"
            ]
          },
          "metadata": {},
          "output_type": "display_data"
        },
        {
          "data": {
            "application/vnd.jupyter.widget-view+json": {
              "model_id": "1aeb61ca51f64967abfe24d76712f43b",
              "version_major": 2,
              "version_minor": 0
            },
            "text/plain": [
              "Validation: |          | 0/? [00:00<?, ?it/s]"
            ]
          },
          "metadata": {},
          "output_type": "display_data"
        },
        {
          "data": {
            "application/vnd.jupyter.widget-view+json": {
              "model_id": "23347e45357c44ab94b400a45f99f0ae",
              "version_major": 2,
              "version_minor": 0
            },
            "text/plain": [
              "Validation: |          | 0/? [00:00<?, ?it/s]"
            ]
          },
          "metadata": {},
          "output_type": "display_data"
        },
        {
          "data": {
            "application/vnd.jupyter.widget-view+json": {
              "model_id": "4af982b5809c4cf882cd78a27163f28d",
              "version_major": 2,
              "version_minor": 0
            },
            "text/plain": [
              "Validation: |          | 0/? [00:00<?, ?it/s]"
            ]
          },
          "metadata": {},
          "output_type": "display_data"
        },
        {
          "data": {
            "application/vnd.jupyter.widget-view+json": {
              "model_id": "7a7ed6fd42df42049d9470e921e808ec",
              "version_major": 2,
              "version_minor": 0
            },
            "text/plain": [
              "Validation: |          | 0/? [00:00<?, ?it/s]"
            ]
          },
          "metadata": {},
          "output_type": "display_data"
        },
        {
          "data": {
            "application/vnd.jupyter.widget-view+json": {
              "model_id": "303be584bebc46b1ace59846d285b1a1",
              "version_major": 2,
              "version_minor": 0
            },
            "text/plain": [
              "Validation: |          | 0/? [00:00<?, ?it/s]"
            ]
          },
          "metadata": {},
          "output_type": "display_data"
        },
        {
          "data": {
            "application/vnd.jupyter.widget-view+json": {
              "model_id": "d22bccf58c654fa191f58c480c6420f0",
              "version_major": 2,
              "version_minor": 0
            },
            "text/plain": [
              "Validation: |          | 0/? [00:00<?, ?it/s]"
            ]
          },
          "metadata": {},
          "output_type": "display_data"
        },
        {
          "data": {
            "application/vnd.jupyter.widget-view+json": {
              "model_id": "a64e35d021af432d8d83b07120d0fab2",
              "version_major": 2,
              "version_minor": 0
            },
            "text/plain": [
              "Validation: |          | 0/? [00:00<?, ?it/s]"
            ]
          },
          "metadata": {},
          "output_type": "display_data"
        },
        {
          "data": {
            "application/vnd.jupyter.widget-view+json": {
              "model_id": "0aac09d2ec514224a0439fb1958793c8",
              "version_major": 2,
              "version_minor": 0
            },
            "text/plain": [
              "Validation: |          | 0/? [00:00<?, ?it/s]"
            ]
          },
          "metadata": {},
          "output_type": "display_data"
        },
        {
          "data": {
            "application/vnd.jupyter.widget-view+json": {
              "model_id": "17c59fdbd61d46aaacf539f82bd22530",
              "version_major": 2,
              "version_minor": 0
            },
            "text/plain": [
              "Validation: |          | 0/? [00:00<?, ?it/s]"
            ]
          },
          "metadata": {},
          "output_type": "display_data"
        },
        {
          "data": {
            "application/vnd.jupyter.widget-view+json": {
              "model_id": "aa7a7541056347b992d2d3164a97fbd0",
              "version_major": 2,
              "version_minor": 0
            },
            "text/plain": [
              "Validation: |          | 0/? [00:00<?, ?it/s]"
            ]
          },
          "metadata": {},
          "output_type": "display_data"
        },
        {
          "data": {
            "application/vnd.jupyter.widget-view+json": {
              "model_id": "d2f728afb95d4757809df3026202b280",
              "version_major": 2,
              "version_minor": 0
            },
            "text/plain": [
              "Validation: |          | 0/? [00:00<?, ?it/s]"
            ]
          },
          "metadata": {},
          "output_type": "display_data"
        },
        {
          "data": {
            "application/vnd.jupyter.widget-view+json": {
              "model_id": "6d3b12a440f444679fd0cc29ee06fd7d",
              "version_major": 2,
              "version_minor": 0
            },
            "text/plain": [
              "Validation: |          | 0/? [00:00<?, ?it/s]"
            ]
          },
          "metadata": {},
          "output_type": "display_data"
        },
        {
          "data": {
            "application/vnd.jupyter.widget-view+json": {
              "model_id": "0bf2cd1044354663bf6def5e157ef931",
              "version_major": 2,
              "version_minor": 0
            },
            "text/plain": [
              "Validation: |          | 0/? [00:00<?, ?it/s]"
            ]
          },
          "metadata": {},
          "output_type": "display_data"
        },
        {
          "data": {
            "application/vnd.jupyter.widget-view+json": {
              "model_id": "1d4b2ff23dc14e749cfd5890a254e51d",
              "version_major": 2,
              "version_minor": 0
            },
            "text/plain": [
              "Validation: |          | 0/? [00:00<?, ?it/s]"
            ]
          },
          "metadata": {},
          "output_type": "display_data"
        },
        {
          "data": {
            "application/vnd.jupyter.widget-view+json": {
              "model_id": "3534c23459994d50b9704b69e55aa64a",
              "version_major": 2,
              "version_minor": 0
            },
            "text/plain": [
              "Validation: |          | 0/? [00:00<?, ?it/s]"
            ]
          },
          "metadata": {},
          "output_type": "display_data"
        },
        {
          "data": {
            "application/vnd.jupyter.widget-view+json": {
              "model_id": "6dbdd986f39d436a96e834a8840e9d39",
              "version_major": 2,
              "version_minor": 0
            },
            "text/plain": [
              "Validation: |          | 0/? [00:00<?, ?it/s]"
            ]
          },
          "metadata": {},
          "output_type": "display_data"
        },
        {
          "data": {
            "application/vnd.jupyter.widget-view+json": {
              "model_id": "59246e8e5b2847e6a8dbe3f40d7c1acf",
              "version_major": 2,
              "version_minor": 0
            },
            "text/plain": [
              "Validation: |          | 0/? [00:00<?, ?it/s]"
            ]
          },
          "metadata": {},
          "output_type": "display_data"
        },
        {
          "name": "stderr",
          "output_type": "stream",
          "text": [
            "`Trainer.fit` stopped: `max_epochs=30` reached.\n"
          ]
        }
      ],
      "source": [
        "# Train the PyTorch Lightning model using the Trainer instance\n",
        "\n",
        "# trainer.fit(): Method used to initiate the training process\n",
        "# model: The PyTorch Lightning model (ConvolutionalNetwork in this case) to be trained\n",
        "# train_dataloaders: Training data loader (train_loader) used during training\n",
        "# val_dataloaders: Validation data loader (test_loader) used for validation during training\n",
        "\n",
        "trainer.fit(model, train_dataloaders=train_loader, val_dataloaders=test_loader)\n",
        "\n",
        "trainer.fit(model , train_dataloaders = train_loader , val_dataloaders = test_loader )"
      ]
    },
    {
      "cell_type": "markdown",
      "metadata": {
        "id": "6xru1sBHG5mU"
      },
      "source": [
        "## Evaluate model"
      ]
    },
    {
      "cell_type": "code",
      "execution_count": null,
      "metadata": {
        "id": "Peul5MlqG5mV",
        "outputId": "1185ea33-b0cf-45f5-9421-ad673af8a13e"
      },
      "outputs": [
        {
          "name": "stdout",
          "output_type": "stream",
          "text": [
            "              precision    recall  f1-score   support\n",
            "\n",
            "           0       0.87      0.95      0.91      1519\n",
            "           1       0.96      0.86      0.90      1466\n",
            "           2       0.94      0.89      0.91      1481\n",
            "           3       0.90      0.96      0.93      1493\n",
            "           4       0.99      0.99      0.99      1541\n",
            "\n",
            "    accuracy                           0.93      7500\n",
            "   macro avg       0.93      0.93      0.93      7500\n",
            "weighted avg       0.93      0.93      0.93      7500\n",
            "\n"
          ]
        }
      ],
      "source": [
        "from sklearn.metrics import classification_report\n",
        "import numpy as np\n",
        "\n",
        "# Evaluate the model on the test set and gather predictions\n",
        "model.eval()\n",
        "predicted_labels = []\n",
        "true_labels = []\n",
        "\n",
        "with torch.no_grad():\n",
        "    for images, labels in test_loader:\n",
        "        outputs = model(images)\n",
        "        _, predicted = torch.max(outputs, 1)\n",
        "        predicted_labels.extend(predicted.cpu().numpy())\n",
        "        true_labels.extend(labels.cpu().numpy())\n",
        "\n",
        "# Convert lists to numpy arrays\n",
        "predicted_labels = np.array(predicted_labels)\n",
        "true_labels = np.array(true_labels)\n",
        "\n",
        "# Generate classification report\n",
        "report = classification_report(true_labels, predicted_labels)\n",
        "print(report)\n"
      ]
    },
    {
      "cell_type": "code",
      "execution_count": null,
      "metadata": {
        "id": "hkCmYmtNG5mW",
        "outputId": "786b8588-d13a-40f8-b387-48010bf42a0e"
      },
      "outputs": [
        {
          "name": "stdout",
          "output_type": "stream",
          "text": [
            "Accuracy on test set: 92.95%\n"
          ]
        }
      ],
      "source": [
        "# Evaluation loop for the test set\n",
        "model.eval()\n",
        "correct = 0\n",
        "total = 0\n",
        "\n",
        "with torch.no_grad():\n",
        "    for images, labels in test_loader:\n",
        "        outputs = model(images)\n",
        "        _, predicted = torch.max(outputs, 1)\n",
        "        total += labels.size(0)\n",
        "        correct += (predicted == labels).sum().item()\n",
        "\n",
        "accuracy = correct / total\n",
        "print(f\"Accuracy on test set: {accuracy * 100:.2f}%\")\n"
      ]
    },
    {
      "cell_type": "code",
      "execution_count": null,
      "metadata": {
        "id": "uxO_0hmSG5mX"
      },
      "outputs": [],
      "source": []
    }
  ],
  "metadata": {
    "kaggle": {
      "accelerator": "none",
      "dataSources": [
        {
          "datasetId": 601280,
          "sourceId": 1079953,
          "sourceType": "datasetVersion"
        }
      ],
      "dockerImageVersionId": 30587,
      "isGpuEnabled": false,
      "isInternetEnabled": false,
      "language": "python",
      "sourceType": "notebook"
    },
    "kernelspec": {
      "display_name": "Python 3",
      "language": "python",
      "name": "python3"
    },
    "language_info": {
      "codemirror_mode": {
        "name": "ipython",
        "version": 3
      },
      "file_extension": ".py",
      "mimetype": "text/x-python",
      "name": "python",
      "nbconvert_exporter": "python",
      "pygments_lexer": "ipython3",
      "version": "3.11.5"
    },
    "colab": {
      "provenance": []
    }
  },
  "nbformat": 4,
  "nbformat_minor": 0
}